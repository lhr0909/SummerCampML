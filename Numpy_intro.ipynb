{
 "cells": [
  {
   "cell_type": "code",
   "execution_count": 1,
   "metadata": {
    "collapsed": false
   },
   "outputs": [
    {
     "name": "stdout",
     "output_type": "stream",
     "text": [
      "Hello World!\n"
     ]
    }
   ],
   "source": [
    "def Hello():\n",
    "    print 'Hello World!'\n",
    "    return\n",
    "\n",
    "Hello()"
   ]
  },
  {
   "cell_type": "markdown",
   "metadata": {},
   "source": [
    "Python is a simple, high-level scripting language that can be used to build some interesting models in AI. Numpy is a module in Python which has functions for manipulating matrices and performing math operations.\n",
    "Python是一门主要用于写脚本的高级语言，有很多AI和机器学习的模型是用这个语言搭建的。Numpy则是Python中的一个常用库，其中包含了很多矩阵运算和科学运算的函数与方法。"
   ]
  },
  {
   "cell_type": "code",
   "execution_count": 2,
   "metadata": {
    "collapsed": false
   },
   "outputs": [
    {
     "name": "stdout",
     "output_type": "stream",
     "text": [
      "x is  [[ 1.  1.  1.]]\n",
      "y is  [[ 0.  0.  0.]]\n"
     ]
    }
   ],
   "source": [
    "import numpy\n",
    "x = numpy.ones((1, 3))\n",
    "print 'x is ', x\n",
    "\n",
    "import numpy as np\n",
    "y = np.zeros_like(x)\n",
    "print 'y is ', y\n",
    "\n",
    "#Equivalent\n",
    "#以上两种语法都正确，我们可以从x的矩阵得到一个跟x一样形状的矩阵y。"
   ]
  },
  {
   "cell_type": "code",
   "execution_count": 6,
   "metadata": {
    "collapsed": false
   },
   "outputs": [
    {
     "name": "stdout",
     "output_type": "stream",
     "text": [
      "a is shaped like  (3L, 2L)\n",
      "[[ 0.  0.]\n",
      " [ 0.  0.]\n",
      " [ 0.  0.]]\n",
      "a transpose is shaped like  (2L, 3L)\n",
      "[[ 0.  0.  0.]\n",
      " [ 0.  0.  0.]]\n"
     ]
    }
   ],
   "source": [
    "#Transpose 对于2D的矩阵而言只是沿着对角翻转\n",
    "a = np.zeros((3, 2))\n",
    "print 'a is shaped like ', a.shape\n",
    "print a\n",
    "print 'a transpose is shaped like ', a.T.shape\n",
    "print a.T"
   ]
  },
  {
   "cell_type": "code",
   "execution_count": 7,
   "metadata": {
    "collapsed": false
   },
   "outputs": [
    {
     "name": "stdout",
     "output_type": "stream",
     "text": [
      "c [[ 4.  4.]\n",
      " [ 4.  4.]\n",
      " [ 4.  4.]]\n",
      "d [[ 3.  3.]\n",
      " [ 3.  3.]\n",
      " [ 3.  6.]]\n"
     ]
    }
   ],
   "source": [
    "#矩阵可以根据内部的元素做基本加减乘除，这样可以同时处理很多数据，速度更快\n",
    "a = np.ones((3, 2))\n",
    "b = np.ones((3, 2)) * 3\n",
    "#print 'a', a\n",
    "#print 'b', b\n",
    "\n",
    "c = a + b\n",
    "a[2, 1] = 2\n",
    "d = a * b\n",
    "print 'c', c\n",
    "print 'd' , d"
   ]
  },
  {
   "cell_type": "code",
   "execution_count": null,
   "metadata": {
    "collapsed": true
   },
   "outputs": [],
   "source": [
    "#Calculates the entropy of the given data set for the target attr\n",
    "def entropy(attributes, data, targetAttr):\n",
    "\n",
    "    valFreq = {}\n",
    "    dataEntropy = 0.0\n",
    "    \n",
    "    #find index of the target attribute\n",
    "    i = 0\n",
    "    for entry in attributes:\n",
    "        if (targetAttr == entry):\n",
    "            break\n",
    "        ++i\n",
    "    \n",
    "    # Calculate the frequency of each of the values in the target attr\n",
    "    for entry in data:\n",
    "        if (valFreq.has_key(entry[i])):\n",
    "            valFreq[entry[i]] += 1.0\n",
    "        else:\n",
    "            valFreq[entry[i]]  = 1.0\n",
    "\n",
    "    # Calculate the entropy of the data for the target attr\n",
    "    for freq in valFreq.values():\n",
    "        dataEntropy += (-freq/len(data)) * math.log(freq/len(data), 2) \n",
    "        \n",
    "return dataEntropy\n",
    "\n",
    "\n",
    "def gain(attributes, data, attr, targetAttr):\n",
    "    \"\"\"\n",
    "    Calculates the information gain (reduction in entropy) that would\n",
    "    result by splitting the data on the chosen attribute (attr).\n",
    "    \"\"\"\n",
    "    valFreq = {}\n",
    "    subsetEntropy = 0.0\n",
    "    \n",
    "    #find index of the attribute\n",
    "    i = attributes.index(attr)\n",
    "\n",
    "    # Calculate the frequency of each of the values in the target attribute\n",
    "    for entry in data:\n",
    "        if (valFreq.has_key(entry[i])):\n",
    "            valFreq[entry[i]] += 1.0\n",
    "        else:\n",
    "            valFreq[entry[i]]  = 1.0\n",
    "    # Calculate the sum of the entropy for each subset of records weighted\n",
    "    # by their probability of occuring in the training set.\n",
    "    for val in valFreq.keys():\n",
    "        valProb        = valFreq[val] / sum(valFreq.values())\n",
    "        dataSubset     = [entry for entry in data if entry[i] == val]\n",
    "        subsetEntropy += valProb * entropy(attributes, dataSubset, targetAttr)\n",
    "\n",
    "    # Subtract the entropy of the chosen attribute from the entropy of the\n",
    "    # whole data set with respect to the target attribute (and return it)\n",
    "    return (entropy(attributes, data, targetAttr) - subsetEntropy)\n"
   ]
  }
 ],
 "metadata": {
  "kernelspec": {
   "display_name": "Python 2",
   "language": "python",
   "name": "python2"
  },
  "language_info": {
   "codemirror_mode": {
    "name": "ipython",
    "version": 2
   },
   "file_extension": ".py",
   "mimetype": "text/x-python",
   "name": "python",
   "nbconvert_exporter": "python",
   "pygments_lexer": "ipython2",
   "version": "2.7.10"
  }
 },
 "nbformat": 4,
 "nbformat_minor": 0
}
